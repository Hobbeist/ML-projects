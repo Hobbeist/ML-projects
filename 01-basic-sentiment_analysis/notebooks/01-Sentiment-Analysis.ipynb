{
 "cells": [
  {
   "cell_type": "markdown",
   "metadata": {},
   "source": [
    "<h1 style=\"text-align: center;\">Sentiment Analysis of Social Media Posts in Roman Urdu\n",
    "</h1>\n",
    "<h3 style=\"text-align: center;\">Special Focus: Prediction of negative Sentiment</h3>\n",
    "<h5 style=\"text-align: center;\">\n",
    "    <i> Prepared by: Sebastian Rauschert, PhD</i>\n",
    "<h5>"
   ]
  },
  {
   "cell_type": "markdown",
   "metadata": {},
   "source": [
    "# Summarised Overview   \n",
    "    \n",
    "- Data inspection and cleaning\n",
    "- NLP processing such as tokenisation, removal of stop words and creation of n-grams\n",
    "- Machine Learning Models  \n",
    "    -  Multinomial Logistic Regression  \n",
    "    - Naive Bayes Classifier   \n",
    "- Conclusions\n",
    "- Closing Remarks and Outlook\n",
    "    \n",
    "    \n",
    "NOTE: Further information on how I gathered information on the Urdu language and Natural Language Processing in general, can be found in the README file in this project folder."
   ]
  },
  {
   "cell_type": "code",
   "execution_count": 1,
   "metadata": {},
   "outputs": [
    {
     "name": "stderr",
     "output_type": "stream",
     "text": [
      "[nltk_data] Downloading package punkt to\n",
      "[nltk_data]     /Users/srauschert/nltk_data...\n",
      "[nltk_data]   Package punkt is already up-to-date!\n"
     ]
    },
    {
     "data": {
      "text/plain": [
       "True"
      ]
     },
     "execution_count": 1,
     "metadata": {},
     "output_type": "execute_result"
    }
   ],
   "source": [
    "# My own module, to not clutter the notebook with functions\n",
    "import urdu_sentiment.plotting as customPlt\n",
    "from  urdu_sentiment.tokenise import createToken, tokeniseAll\n",
    "\n",
    "# Importing all libraries for the analysis\n",
    "import nltk \n",
    "import itertools\n",
    "import pandas as pd\n",
    "import numpy as np\n",
    "from numpy import loadtxt\n",
    "import seaborn as sns\n",
    "\n",
    "import matplotlib.pyplot as plt\n",
    "from sklearn.model_selection import StratifiedKFold, GridSearchCV\n",
    "from sklearn.feature_extraction.text import CountVectorizer, TfidfVectorizer\n",
    "from sklearn.model_selection import train_test_split\n",
    "from sklearn.linear_model import LogisticRegression\n",
    "from sklearn.naive_bayes import MultinomialNB\n",
    "from sklearn.svm import LinearSVC\n",
    "from sklearn.pipeline import Pipeline\n",
    "from sklearn.metrics import (confusion_matrix, \n",
    "                             accuracy_score, \n",
    "                             f1_score, \n",
    "                             recall_score, \n",
    "                             precision_score, \n",
    "                             roc_auc_score, \n",
    "                             roc_curve, \n",
    "                             precision_recall_curve, \n",
    "                             plot_roc_curve, \n",
    "                             classification_report, \n",
    "                             auc, \n",
    "                             cohen_kappa_score)\n",
    "from imblearn.over_sampling import SMOTE\n",
    "from sklearn.preprocessing import MaxAbsScaler\n",
    "\n",
    "plt.rcParams['figure.figsize'] = [10, 5]\n",
    "nltk.download('punkt')"
   ]
  },
  {
   "cell_type": "markdown",
   "metadata": {},
   "source": [
    "# 1. Descriptives and Cleaning\n",
    "Here I:  \n",
    "\n",
    "1. Inspect the data. \n",
    "2. Clean the data (class assignment, missing values, outlier removal)"
   ]
  },
  {
   "cell_type": "markdown",
   "metadata": {},
   "source": [
    "### Import data"
   ]
  },
  {
   "cell_type": "code",
   "execution_count": 2,
   "metadata": {},
   "outputs": [
    {
     "name": "stdout",
     "output_type": "stream",
     "text": [
      "The Urdu data set has 20229 rows and 3 colums\n"
     ]
    }
   ],
   "source": [
    "# Read the Urdu data set\n",
    "urdu = pd.read_csv('../data/Roman_Urdu_DataSet.csv', header=None, names=['post', 'sentiment', 'unknown'])\n",
    "\n",
    "# Read the stopwords\n",
    "stopWords = pd.read_csv(\"../data/stopwords.txt\", header=None)[0].tolist()\n",
    "\n",
    "# Read the list of common names in Urdu\n",
    "urduNames = pd.read_csv(\"../data/100-common-names.txt\", header=None)[0].tolist()\n",
    "\n",
    "# Check data dimensions\n",
    "print('The Urdu data set has', urdu.shape[0], 'rows and', urdu.shape[1], 'colums')"
   ]
  },
  {
   "cell_type": "code",
   "execution_count": 3,
   "metadata": {},
   "outputs": [
    {
     "data": {
      "text/html": [
       "<div>\n",
       "<style scoped>\n",
       "    .dataframe tbody tr th:only-of-type {\n",
       "        vertical-align: middle;\n",
       "    }\n",
       "\n",
       "    .dataframe tbody tr th {\n",
       "        vertical-align: top;\n",
       "    }\n",
       "\n",
       "    .dataframe thead th {\n",
       "        text-align: right;\n",
       "    }\n",
       "</style>\n",
       "<table border=\"1\" class=\"dataframe\">\n",
       "  <thead>\n",
       "    <tr style=\"text-align: right;\">\n",
       "      <th></th>\n",
       "      <th>post</th>\n",
       "      <th>sentiment</th>\n",
       "      <th>unknown</th>\n",
       "    </tr>\n",
       "  </thead>\n",
       "  <tbody>\n",
       "    <tr>\n",
       "      <th>0</th>\n",
       "      <td>Sai kha ya her kisi kay bus ki bat nhi hai lak...</td>\n",
       "      <td>Positive</td>\n",
       "      <td>NaN</td>\n",
       "    </tr>\n",
       "    <tr>\n",
       "      <th>1</th>\n",
       "      <td>sahi bt h</td>\n",
       "      <td>Positive</td>\n",
       "      <td>NaN</td>\n",
       "    </tr>\n",
       "    <tr>\n",
       "      <th>2</th>\n",
       "      <td>Kya bt hai,</td>\n",
       "      <td>Positive</td>\n",
       "      <td>NaN</td>\n",
       "    </tr>\n",
       "    <tr>\n",
       "      <th>3</th>\n",
       "      <td>Wah je wah</td>\n",
       "      <td>Positive</td>\n",
       "      <td>NaN</td>\n",
       "    </tr>\n",
       "    <tr>\n",
       "      <th>4</th>\n",
       "      <td>Are wha kaya bat hai</td>\n",
       "      <td>Positive</td>\n",
       "      <td>NaN</td>\n",
       "    </tr>\n",
       "    <tr>\n",
       "      <th>5</th>\n",
       "      <td>Wah kya baat likhi</td>\n",
       "      <td>Positive</td>\n",
       "      <td>NaN</td>\n",
       "    </tr>\n",
       "    <tr>\n",
       "      <th>6</th>\n",
       "      <td>Wha Itni sari khubiya</td>\n",
       "      <td>Positive</td>\n",
       "      <td>NaN</td>\n",
       "    </tr>\n",
       "    <tr>\n",
       "      <th>7</th>\n",
       "      <td>Itni khubiya</td>\n",
       "      <td>Positive</td>\n",
       "      <td>NaN</td>\n",
       "    </tr>\n",
       "    <tr>\n",
       "      <th>8</th>\n",
       "      <td>Ya allah rehm farma hm sab pe or zalimo ko hid...</td>\n",
       "      <td>Positive</td>\n",
       "      <td>NaN</td>\n",
       "    </tr>\n",
       "    <tr>\n",
       "      <th>9</th>\n",
       "      <td>Please Everyone AllAh S.w.T ka naam hAmesha Ba...</td>\n",
       "      <td>Positive</td>\n",
       "      <td>NaN</td>\n",
       "    </tr>\n",
       "  </tbody>\n",
       "</table>\n",
       "</div>"
      ],
      "text/plain": [
       "                                                post sentiment unknown\n",
       "0  Sai kha ya her kisi kay bus ki bat nhi hai lak...  Positive     NaN\n",
       "1                                          sahi bt h  Positive     NaN\n",
       "2                                        Kya bt hai,  Positive     NaN\n",
       "3                                         Wah je wah  Positive     NaN\n",
       "4                               Are wha kaya bat hai  Positive     NaN\n",
       "5                                 Wah kya baat likhi  Positive     NaN\n",
       "6                              Wha Itni sari khubiya  Positive     NaN\n",
       "7                                       Itni khubiya  Positive     NaN\n",
       "8  Ya allah rehm farma hm sab pe or zalimo ko hid...  Positive     NaN\n",
       "9  Please Everyone AllAh S.w.T ka naam hAmesha Ba...  Positive     NaN"
      ]
     },
     "execution_count": 3,
     "metadata": {},
     "output_type": "execute_result"
    }
   ],
   "source": [
    "# Inspecting the head of the data to see if it was loaded\n",
    "urdu.head(10)"
   ]
  },
  {
   "cell_type": "markdown",
   "metadata": {},
   "source": [
    "NOTE: The comments are a mix of english and Roman Urdu"
   ]
  },
  {
   "cell_type": "markdown",
   "metadata": {},
   "source": [
    "### Inspect the classes"
   ]
  },
  {
   "cell_type": "code",
   "execution_count": 4,
   "metadata": {},
   "outputs": [
    {
     "data": {
      "text/html": [
       "<div>\n",
       "<style scoped>\n",
       "    .dataframe tbody tr th:only-of-type {\n",
       "        vertical-align: middle;\n",
       "    }\n",
       "\n",
       "    .dataframe tbody tr th {\n",
       "        vertical-align: top;\n",
       "    }\n",
       "\n",
       "    .dataframe thead th {\n",
       "        text-align: right;\n",
       "    }\n",
       "</style>\n",
       "<table border=\"1\" class=\"dataframe\">\n",
       "  <thead>\n",
       "    <tr style=\"text-align: right;\">\n",
       "      <th></th>\n",
       "      <th>Categories</th>\n",
       "      <th>Counts</th>\n",
       "    </tr>\n",
       "  </thead>\n",
       "  <tbody>\n",
       "    <tr>\n",
       "      <th>0</th>\n",
       "      <td>Neutral</td>\n",
       "      <td>8929</td>\n",
       "    </tr>\n",
       "    <tr>\n",
       "      <th>1</th>\n",
       "      <td>Positive</td>\n",
       "      <td>6013</td>\n",
       "    </tr>\n",
       "    <tr>\n",
       "      <th>2</th>\n",
       "      <td>Negative</td>\n",
       "      <td>5286</td>\n",
       "    </tr>\n",
       "    <tr>\n",
       "      <th>3</th>\n",
       "      <td>Neative</td>\n",
       "      <td>1</td>\n",
       "    </tr>\n",
       "  </tbody>\n",
       "</table>\n",
       "</div>"
      ],
      "text/plain": [
       "  Categories  Counts\n",
       "0    Neutral    8929\n",
       "1   Positive    6013\n",
       "2   Negative    5286\n",
       "3    Neative       1"
      ]
     },
     "execution_count": 4,
     "metadata": {},
     "output_type": "execute_result"
    }
   ],
   "source": [
    "# Inspect the categories to see if there are any issues\n",
    "# I do this by creating a new pandas data frame, as we can later on plot the results easy with this\n",
    "categories            = pd.DataFrame(urdu['sentiment'].value_counts())\n",
    "categories.index.name = 'Categories'\n",
    "categories            = categories.reset_index()\n",
    "categories.columns    = ['Categories', 'Counts']\n",
    "categories"
   ]
  },
  {
   "cell_type": "markdown",
   "metadata": {},
   "source": [
    "NOTE: We can see that there is a type error in one instance of the 'Negative' class. As it is obvious that this is meant to be a 'Negative' instance, I am just going to recode it to 'Negative'. "
   ]
  },
  {
   "cell_type": "code",
   "execution_count": 5,
   "metadata": {},
   "outputs": [
    {
     "data": {
      "text/html": [
       "<div>\n",
       "<style scoped>\n",
       "    .dataframe tbody tr th:only-of-type {\n",
       "        vertical-align: middle;\n",
       "    }\n",
       "\n",
       "    .dataframe tbody tr th {\n",
       "        vertical-align: top;\n",
       "    }\n",
       "\n",
       "    .dataframe thead th {\n",
       "        text-align: right;\n",
       "    }\n",
       "</style>\n",
       "<table border=\"1\" class=\"dataframe\">\n",
       "  <thead>\n",
       "    <tr style=\"text-align: right;\">\n",
       "      <th></th>\n",
       "      <th>Categories</th>\n",
       "      <th>Counts</th>\n",
       "    </tr>\n",
       "  </thead>\n",
       "  <tbody>\n",
       "    <tr>\n",
       "      <th>0</th>\n",
       "      <td>Neutral</td>\n",
       "      <td>8929</td>\n",
       "    </tr>\n",
       "    <tr>\n",
       "      <th>1</th>\n",
       "      <td>Positive</td>\n",
       "      <td>6013</td>\n",
       "    </tr>\n",
       "    <tr>\n",
       "      <th>2</th>\n",
       "      <td>Negative</td>\n",
       "      <td>5287</td>\n",
       "    </tr>\n",
       "  </tbody>\n",
       "</table>\n",
       "</div>"
      ],
      "text/plain": [
       "  Categories  Counts\n",
       "0    Neutral    8929\n",
       "1   Positive    6013\n",
       "2   Negative    5287"
      ]
     },
     "execution_count": 5,
     "metadata": {},
     "output_type": "execute_result"
    }
   ],
   "source": [
    "urdu[urdu['sentiment'] == 'Neative'] = 'Negative'\n",
    "categories            = pd.DataFrame(urdu['sentiment'].value_counts())\n",
    "categories.index.name = 'Categories'\n",
    "categories            = categories.reset_index()\n",
    "categories.columns    = ['Categories', 'Counts']\n",
    "categories"
   ]
  },
  {
   "cell_type": "markdown",
   "metadata": {},
   "source": [
    "### Missing values and column 3"
   ]
  },
  {
   "cell_type": "markdown",
   "metadata": {},
   "source": [
    "Let's check the number of missing values per variable, and in doing that, check what the third column is all about"
   ]
  },
  {
   "cell_type": "code",
   "execution_count": 6,
   "metadata": {},
   "outputs": [
    {
     "data": {
      "text/plain": [
       "post             1\n",
       "sentiment        0\n",
       "unknown      20221\n",
       "dtype: int64"
      ]
     },
     "execution_count": 6,
     "metadata": {},
     "output_type": "execute_result"
    }
   ],
   "source": [
    "urdu.isnull().sum()"
   ]
  },
  {
   "cell_type": "markdown",
   "metadata": {},
   "source": [
    "NOTE: Column 3 appears as non-useful. It is also not described anywhere, if there \n",
    "is any meaning to it. Hence we will drop it for the further analysis."
   ]
  },
  {
   "cell_type": "code",
   "execution_count": 7,
   "metadata": {},
   "outputs": [
    {
     "data": {
      "text/html": [
       "<div>\n",
       "<style scoped>\n",
       "    .dataframe tbody tr th:only-of-type {\n",
       "        vertical-align: middle;\n",
       "    }\n",
       "\n",
       "    .dataframe tbody tr th {\n",
       "        vertical-align: top;\n",
       "    }\n",
       "\n",
       "    .dataframe thead th {\n",
       "        text-align: right;\n",
       "    }\n",
       "</style>\n",
       "<table border=\"1\" class=\"dataframe\">\n",
       "  <thead>\n",
       "    <tr style=\"text-align: right;\">\n",
       "      <th></th>\n",
       "      <th>post</th>\n",
       "      <th>sentiment</th>\n",
       "    </tr>\n",
       "  </thead>\n",
       "  <tbody>\n",
       "    <tr>\n",
       "      <th>0</th>\n",
       "      <td>Sai kha ya her kisi kay bus ki bat nhi hai lak...</td>\n",
       "      <td>Positive</td>\n",
       "    </tr>\n",
       "    <tr>\n",
       "      <th>1</th>\n",
       "      <td>sahi bt h</td>\n",
       "      <td>Positive</td>\n",
       "    </tr>\n",
       "    <tr>\n",
       "      <th>2</th>\n",
       "      <td>Kya bt hai,</td>\n",
       "      <td>Positive</td>\n",
       "    </tr>\n",
       "    <tr>\n",
       "      <th>3</th>\n",
       "      <td>Wah je wah</td>\n",
       "      <td>Positive</td>\n",
       "    </tr>\n",
       "    <tr>\n",
       "      <th>4</th>\n",
       "      <td>Are wha kaya bat hai</td>\n",
       "      <td>Positive</td>\n",
       "    </tr>\n",
       "  </tbody>\n",
       "</table>\n",
       "</div>"
      ],
      "text/plain": [
       "                                                post sentiment\n",
       "0  Sai kha ya her kisi kay bus ki bat nhi hai lak...  Positive\n",
       "1                                          sahi bt h  Positive\n",
       "2                                        Kya bt hai,  Positive\n",
       "3                                         Wah je wah  Positive\n",
       "4                               Are wha kaya bat hai  Positive"
      ]
     },
     "execution_count": 7,
     "metadata": {},
     "output_type": "execute_result"
    }
   ],
   "source": [
    "# Permanently remove column 3 \n",
    "urdu.drop(columns='unknown', inplace=True)\n",
    "urdu.head()"
   ]
  },
  {
   "cell_type": "markdown",
   "metadata": {},
   "source": [
    "Further, as per 'missingness' check above, there is one missing value in the 'Comments', so let's inspect this"
   ]
  },
  {
   "cell_type": "code",
   "execution_count": 8,
   "metadata": {},
   "outputs": [
    {
     "name": "stdout",
     "output_type": "stream",
     "text": [
      "      post sentiment\n",
      "16904  NaN   Neutral\n"
     ]
    }
   ],
   "source": [
    "print(urdu[urdu[\"post\"].isnull()])"
   ]
  },
  {
   "cell_type": "markdown",
   "metadata": {},
   "source": [
    "NOTE: As this is one occurance out of 20229, I decided to remove this instance. After all, we need text to perform the classification, and having one occurence of missing comments for a neutral review is not enough to indicate that there is a pattern of 'neutral' reviewers to not leave a comment."
   ]
  },
  {
   "cell_type": "code",
   "execution_count": 9,
   "metadata": {},
   "outputs": [
    {
     "name": "stdout",
     "output_type": "stream",
     "text": [
      "Empty DataFrame\n",
      "Columns: [post, sentiment]\n",
      "Index: []\n"
     ]
    }
   ],
   "source": [
    "urdu.drop(index=16904, inplace=True)\n",
    "print(urdu[urdu[\"post\"].isnull()])\n",
    "\n",
    "# Reset the index\n",
    "urdu.reset_index(drop=True, inplace=True)"
   ]
  },
  {
   "cell_type": "markdown",
   "metadata": {},
   "source": [
    "### Inspect classes randomly"
   ]
  },
  {
   "cell_type": "code",
   "execution_count": 10,
   "metadata": {},
   "outputs": [
    {
     "name": "stdout",
     "output_type": "stream",
     "text": [
      "Random positive comment\n",
      "Hamain Allah ko Capital A se likhna chahiye.Agar UK 1 saal rehne ke baad bhi nahi hue to hamain apne spelling theek karne chahiye\n",
      "=========================\n",
      "Random neutral comment\n",
      "        \n",
      "=========================\n",
      "Random negative comment\n",
      "Ye arsal ka gareban kabi band Q ni hota\n"
     ]
    }
   ],
   "source": [
    "print('Random positive comment')\n",
    "print(urdu[urdu['sentiment']=='Positive'].sample(n=1)['post'].iloc[0])\n",
    "print('=========================')\n",
    "print('Random neutral comment')\n",
    "print(urdu[urdu['sentiment']=='Neutral'].sample(n=1)['post'].iloc[0])\n",
    "print('=========================')\n",
    "print('Random negative comment')\n",
    "print(urdu[urdu['sentiment']=='Negative'].sample(n=1)['post'].iloc[0])"
   ]
  },
  {
   "cell_type": "markdown",
   "metadata": {},
   "source": [
    "### Check the number of words per class\n",
    "It might be useful to get an understanding of the length of sentences per class. Further, we want to make sure there are no comments with no words or ouliers with many more words than the majority of comments."
   ]
  },
  {
   "cell_type": "code",
   "execution_count": 11,
   "metadata": {},
   "outputs": [
    {
     "data": {
      "text/plain": [
       "<AxesSubplot:xlabel='Sentiment', ylabel='WordCount'>"
      ]
     },
     "execution_count": 11,
     "metadata": {},
     "output_type": "execute_result"
    },
    {
     "data": {
      "image/png": "[encoded data removed]",
      "text/plain": [
       "<Figure size 720x360 with 1 Axes>"
      ]
     },
     "metadata": {
      "needs_background": "light"
     },
     "output_type": "display_data"
    }
   ],
   "source": [
    "CommentLength = []\n",
    "for i in range(0,urdu.shape[0]):\n",
    "    CommentLength.append(len(urdu.post[i].split()))\n",
    "\n",
    "wordCount = pd.DataFrame({'WordCount' : np.array(CommentLength), 'Sentiment':np.array(urdu.sentiment)})\n",
    "sns.boxplot( x=wordCount[\"Sentiment\"], y=wordCount[\"WordCount\"] )"
   ]
  },
  {
   "cell_type": "markdown",
   "metadata": {},
   "source": [
    "NOTE: We can see in the boxplot, that there are a few comments that appear to be outliers in terms of the number of words. It is not clearly apparent from this plot, if we have 0 word comments.  \n",
    "Next, we check for zero word comments."
   ]
  },
  {
   "cell_type": "code",
   "execution_count": 12,
   "metadata": {},
   "outputs": [
    {
     "data": {
      "image/png": "[encoded data removed]",
      "text/plain": [
       "<Figure size 720x360 with 1 Axes>"
      ]
     },
     "metadata": {
      "needs_background": "light"
     },
     "output_type": "display_data"
    },
    {
     "data": {
      "text/plain": [
       "count    20228.000000\n",
       "mean        13.284704\n",
       "std         13.447479\n",
       "min          0.000000\n",
       "25%          5.000000\n",
       "50%          9.000000\n",
       "75%         17.000000\n",
       "max        301.000000\n",
       "dtype: float64"
      ]
     },
     "execution_count": 12,
     "metadata": {},
     "output_type": "execute_result"
    }
   ],
   "source": [
    "reviews_len = [len(x.split()) for x in urdu.post.to_list()]\n",
    "pd.Series(reviews_len).hist()\n",
    "plt.show()\n",
    "pd.Series(reviews_len).describe()"
   ]
  },
  {
   "cell_type": "markdown",
   "metadata": {},
   "source": [
    "NOTE: There are 0 words in some cells, as we can see based on the minimum word count above. This might count whatever placeholder is in a cell, even if it doesn't contain text. I count the number of words to be sure "
   ]
  },
  {
   "cell_type": "code",
   "execution_count": 13,
   "metadata": {},
   "outputs": [
    {
     "name": "stdout",
     "output_type": "stream",
     "text": [
      "Number of 0 word comments:  112\n",
      "WordCount  Sentiment\n",
      "0          Neutral      112\n",
      "dtype: int64\n"
     ]
    },
    {
     "data": {
      "text/html": [
       "<div>\n",
       "<style scoped>\n",
       "    .dataframe tbody tr th:only-of-type {\n",
       "        vertical-align: middle;\n",
       "    }\n",
       "\n",
       "    .dataframe tbody tr th {\n",
       "        vertical-align: top;\n",
       "    }\n",
       "\n",
       "    .dataframe thead th {\n",
       "        text-align: right;\n",
       "    }\n",
       "</style>\n",
       "<table border=\"1\" class=\"dataframe\">\n",
       "  <thead>\n",
       "    <tr style=\"text-align: right;\">\n",
       "      <th></th>\n",
       "      <th>WordCount</th>\n",
       "      <th>Sentiment</th>\n",
       "    </tr>\n",
       "  </thead>\n",
       "  <tbody>\n",
       "    <tr>\n",
       "      <th>8113</th>\n",
       "      <td>0</td>\n",
       "      <td>Neutral</td>\n",
       "    </tr>\n",
       "    <tr>\n",
       "      <th>8244</th>\n",
       "      <td>0</td>\n",
       "      <td>Neutral</td>\n",
       "    </tr>\n",
       "    <tr>\n",
       "      <th>8239</th>\n",
       "      <td>0</td>\n",
       "      <td>Neutral</td>\n",
       "    </tr>\n",
       "    <tr>\n",
       "      <th>7946</th>\n",
       "      <td>0</td>\n",
       "      <td>Neutral</td>\n",
       "    </tr>\n",
       "    <tr>\n",
       "      <th>7949</th>\n",
       "      <td>0</td>\n",
       "      <td>Neutral</td>\n",
       "    </tr>\n",
       "  </tbody>\n",
       "</table>\n",
       "</div>"
      ],
      "text/plain": [
       "      WordCount Sentiment\n",
       "8113          0   Neutral\n",
       "8244          0   Neutral\n",
       "8239          0   Neutral\n",
       "7946          0   Neutral\n",
       "7949          0   Neutral"
      ]
     },
     "execution_count": 13,
     "metadata": {},
     "output_type": "execute_result"
    }
   ],
   "source": [
    "# Show the sentiment for a selection of those with 0 words\n",
    "print('Number of 0 word comments: ', wordCount[wordCount[\"WordCount\"] == 0].shape[0])\n",
    "print(wordCount[wordCount[\"WordCount\"] == 0].value_counts())\n",
    "wordCount.sort_values('WordCount').head()"
   ]
  },
  {
   "cell_type": "code",
   "execution_count": 14,
   "metadata": {},
   "outputs": [
    {
     "data": {
      "text/html": [
       "<div>\n",
       "<style scoped>\n",
       "    .dataframe tbody tr th:only-of-type {\n",
       "        vertical-align: middle;\n",
       "    }\n",
       "\n",
       "    .dataframe tbody tr th {\n",
       "        vertical-align: top;\n",
       "    }\n",
       "\n",
       "    .dataframe thead th {\n",
       "        text-align: right;\n",
       "    }\n",
       "</style>\n",
       "<table border=\"1\" class=\"dataframe\">\n",
       "  <thead>\n",
       "    <tr style=\"text-align: right;\">\n",
       "      <th></th>\n",
       "      <th>post</th>\n",
       "      <th>sentiment</th>\n",
       "    </tr>\n",
       "  </thead>\n",
       "  <tbody>\n",
       "    <tr>\n",
       "      <th>8113</th>\n",
       "      <td></td>\n",
       "      <td>Neutral</td>\n",
       "    </tr>\n",
       "    <tr>\n",
       "      <th>8244</th>\n",
       "      <td></td>\n",
       "      <td>Neutral</td>\n",
       "    </tr>\n",
       "    <tr>\n",
       "      <th>8239</th>\n",
       "      <td></td>\n",
       "      <td>Neutral</td>\n",
       "    </tr>\n",
       "  </tbody>\n",
       "</table>\n",
       "</div>"
      ],
      "text/plain": [
       "       post sentiment\n",
       "8113          Neutral\n",
       "8244          Neutral\n",
       "8239          Neutral"
      ]
     },
     "execution_count": 14,
     "metadata": {},
     "output_type": "execute_result"
    }
   ],
   "source": [
    "# Also check the actual data, what is in the post column?\n",
    "urdu.loc[[8113,8244,8239],:]"
   ]
  },
  {
   "cell_type": "markdown",
   "metadata": {},
   "source": [
    "NOTE: To remove, I just take the index of the count matrix, which is the same as for the urdu data set, and the use `drop` to remove the comments"
   ]
  },
  {
   "cell_type": "code",
   "execution_count": 15,
   "metadata": {},
   "outputs": [],
   "source": [
    "index = []\n",
    "for row in wordCount[wordCount[\"WordCount\"] == 0].index: \n",
    "    index.append(row)"
   ]
  },
  {
   "cell_type": "code",
   "execution_count": 16,
   "metadata": {},
   "outputs": [
    {
     "data": {
      "text/plain": [
       "(20116, 2)"
      ]
     },
     "execution_count": 16,
     "metadata": {},
     "output_type": "execute_result"
    }
   ],
   "source": [
    "urdu = urdu.drop(index)\n",
    "urdu.shape"
   ]
  },
  {
   "cell_type": "markdown",
   "metadata": {},
   "source": [
    "NOTE: Next I inspect the comments that are outliers in the number of words (having a very large number of words), as per boxplot."
   ]
  },
  {
   "cell_type": "code",
   "execution_count": 17,
   "metadata": {},
   "outputs": [
    {
     "name": "stdout",
     "output_type": "stream",
     "text": [
      "WordCount  Sentiment\n",
      "295        Negative     2\n",
      "301        Positive     1\n",
      "dtype: int64\n"
     ]
    },
    {
     "data": {
      "text/html": [
       "<div>\n",
       "<style scoped>\n",
       "    .dataframe tbody tr th:only-of-type {\n",
       "        vertical-align: middle;\n",
       "    }\n",
       "\n",
       "    .dataframe tbody tr th {\n",
       "        vertical-align: top;\n",
       "    }\n",
       "\n",
       "    .dataframe thead th {\n",
       "        text-align: right;\n",
       "    }\n",
       "</style>\n",
       "<table border=\"1\" class=\"dataframe\">\n",
       "  <thead>\n",
       "    <tr style=\"text-align: right;\">\n",
       "      <th></th>\n",
       "      <th>WordCount</th>\n",
       "      <th>Sentiment</th>\n",
       "    </tr>\n",
       "  </thead>\n",
       "  <tbody>\n",
       "    <tr>\n",
       "      <th>12651</th>\n",
       "      <td>295</td>\n",
       "      <td>Negative</td>\n",
       "    </tr>\n",
       "    <tr>\n",
       "      <th>12652</th>\n",
       "      <td>295</td>\n",
       "      <td>Negative</td>\n",
       "    </tr>\n",
       "    <tr>\n",
       "      <th>13184</th>\n",
       "      <td>301</td>\n",
       "      <td>Positive</td>\n",
       "    </tr>\n",
       "  </tbody>\n",
       "</table>\n",
       "</div>"
      ],
      "text/plain": [
       "       WordCount Sentiment\n",
       "12651        295  Negative\n",
       "12652        295  Negative\n",
       "13184        301  Positive"
      ]
     },
     "execution_count": 17,
     "metadata": {},
     "output_type": "execute_result"
    }
   ],
   "source": [
    "print(wordCount[wordCount[\"WordCount\"] > 250].value_counts())\n",
    "wordCount[wordCount[\"WordCount\"] > 250]"
   ]
  },
  {
   "cell_type": "code",
   "execution_count": 18,
   "metadata": {},
   "outputs": [
    {
     "data": {
      "text/html": [
       "<div>\n",
       "<style scoped>\n",
       "    .dataframe tbody tr th:only-of-type {\n",
       "        vertical-align: middle;\n",
       "    }\n",
       "\n",
       "    .dataframe tbody tr th {\n",
       "        vertical-align: top;\n",
       "    }\n",
       "\n",
       "    .dataframe thead th {\n",
       "        text-align: right;\n",
       "    }\n",
       "</style>\n",
       "<table border=\"1\" class=\"dataframe\">\n",
       "  <thead>\n",
       "    <tr style=\"text-align: right;\">\n",
       "      <th></th>\n",
       "      <th>post</th>\n",
       "      <th>sentiment</th>\n",
       "    </tr>\n",
       "  </thead>\n",
       "  <tbody>\n",
       "    <tr>\n",
       "      <th>12651</th>\n",
       "      <td>Assalam o alaikum! Dosto kal hum ny Federal or...</td>\n",
       "      <td>Negative</td>\n",
       "    </tr>\n",
       "    <tr>\n",
       "      <th>12652</th>\n",
       "      <td>Assalam o alaikum! Dosto kal hum ny Federal or...</td>\n",
       "      <td>Negative</td>\n",
       "    </tr>\n",
       "    <tr>\n",
       "      <th>13184</th>\n",
       "      <td>Assalam o Alaikum! Main Ye 3 Cell Purchase kr ...</td>\n",
       "      <td>Positive</td>\n",
       "    </tr>\n",
       "  </tbody>\n",
       "</table>\n",
       "</div>"
      ],
      "text/plain": [
       "                                                    post sentiment\n",
       "12651  Assalam o alaikum! Dosto kal hum ny Federal or...  Negative\n",
       "12652  Assalam o alaikum! Dosto kal hum ny Federal or...  Negative\n",
       "13184  Assalam o Alaikum! Main Ye 3 Cell Purchase kr ...  Positive"
      ]
     },
     "execution_count": 18,
     "metadata": {},
     "output_type": "execute_result"
    }
   ],
   "source": [
    "urdu.loc[[12651,12652,13184],:]"
   ]
  },
  {
   "cell_type": "code",
   "execution_count": 19,
   "metadata": {},
   "outputs": [
    {
     "data": {
      "text/plain": [
       "\"Assalam o alaikum! Dosto kal hum ny Federal or wo provinces jin mein abhi Ministerial posts ki upgradation nahi hoi, mein upgradation k liye protest start krnay k baray mein app logon ki opinion mangi thi. Kal sham sy ly kr ab tak humein jo response mila ha us k mutabiq 99.7% logon ny protest start krny ka mashwara diya ha or sath mein iss protest mein shareek honay ki yaqeen dehani bhi karai ha. Dosto jesa k aap log jantay hein k jin provinces mein upgradation hoi ha us k peachay jaddo jehad ki aik lambi dastaan ha. Wo kehtay hein na k jab tak bacha roye na to Maan bhi doodh nahi deti iss liye kabhi bhi koi plate mein rakh kr app ko apna haq nahi dy ga apna haq lenay k liye himmat or jazzba darkar ha jis ka izhar KPK or Punjab k dosto ny kiya or kamyaabi hasil ki. Dosto humaray liye aap logoon ki raaye ki bohat importance ha iss liye hum aaj sy apna protest start krny ka elaan krty hein. Iss silsaly mein pehla protest 14th January 2016 at 11:00 AM APCA (Pakistan Railway's Wing) k zaer-e-ehtemaam bamaqaam Pakistan Railways Divisional Superintendent Office, Rawalpindi opposite Rawalpindi Railway Station, ho ga. Tamam dosto (especially Islamabad Secretariat Employees Association, APCA Bait-ul-Mal & IESCO Employees Association) sy request ha k apnay haq k liye bahir niklien or iss ehtajaaj mein apni shirkat yaqeeni banaien keun k agr abb bhi hum na nikly to phir yeh mamlaa youn he latka rahay ga.Insha Allah For more details please contact: Protest Co-ordinator 0300-2341366 #PrimeMinisterOffice #PMPakistan #MianMuhammadNawazSharif #PMAJK #SardarAbdulMajid #CMSindh #QaimAliShah #CMBalochistan #SardarSanaullahZehri #CMGilgitBaltistan #HafizHafeezurRehman #AsifAliZardari #S_KhursheedShah #BilawalBhuttoZardari #FederalFinanceMinister #IshaqDar #FinanceMinisterSindh #FinanceMinisterBalochistan #MaryamNawazSharif #APCA #APCASindh #BhurgariMA #IslamabadCivilSecretariatEmployeesAssociation #ARYNEWS #GEONEWS #SAMMA #EXPRESSNEWS #DUNYANEWS www.facebook.com/PAKISTAN.FEDERAL.GOVERNMENT.CLERKS.UNION\""
      ]
     },
     "execution_count": 19,
     "metadata": {},
     "output_type": "execute_result"
    }
   ],
   "source": [
    "# Inspect one of them in full\n",
    "urdu.post[12651]"
   ]
  },
  {
   "cell_type": "markdown",
   "metadata": {},
   "source": [
    "NOTE: There are three columns that contain more than 250 words in the post. As we can see, two of them are also duplicates. We will deal with the duplicates later and for now, only remove them, as they are only three."
   ]
  },
  {
   "cell_type": "code",
   "execution_count": 20,
   "metadata": {},
   "outputs": [
    {
     "data": {
      "text/plain": [
       "(20113, 3)"
      ]
     },
     "execution_count": 20,
     "metadata": {},
     "output_type": "execute_result"
    }
   ],
   "source": [
    "index = []\n",
    "for row in wordCount[wordCount[\"WordCount\"] > 250].index: \n",
    "    index.append(row)\n",
    "    \n",
    "urdu = urdu.drop(index)\n",
    "urdu.reset_index(inplace=True)\n",
    "urdu.shape"
   ]
  },
  {
   "cell_type": "markdown",
   "metadata": {},
   "source": [
    "Check the boxplots again as a sanity check"
   ]
  },
  {
   "cell_type": "code",
   "execution_count": 21,
   "metadata": {},
   "outputs": [
    {
     "data": {
      "text/plain": [
       "<AxesSubplot:xlabel='Sentiment', ylabel='WordCount'>"
      ]
     },
     "execution_count": 21,
     "metadata": {},
     "output_type": "execute_result"
    },
    {
     "data": {
      "image/png": "[encoded data removed]",
      "text/plain": [
       "<Figure size 720x360 with 1 Axes>"
      ]
     },
     "metadata": {
      "needs_background": "light"
     },
     "output_type": "display_data"
    }
   ],
   "source": [
    "CommentLength = []\n",
    "for i in range(0,urdu.shape[0]):\n",
    "    CommentLength.append(len(urdu.post[i].split()))\n",
    "\n",
    "wordCount = pd.DataFrame({'WordCount' : np.array(CommentLength), 'Sentiment':np.array(urdu.sentiment)})\n",
    "sns.boxplot( x=wordCount[\"Sentiment\"], y=wordCount[\"WordCount\"] )"
   ]
  },
  {
   "cell_type": "markdown",
   "metadata": {},
   "source": [
    "NOTE: I successfully removed the outliers. Now I am going to remove duplicates and check the distribution of number of words in the comments again."
   ]
  },
  {
   "cell_type": "code",
   "execution_count": 22,
   "metadata": {},
   "outputs": [
    {
     "data": {
      "image/png": "[encoded data removed]",
      "text/plain": [
       "<Figure size 720x360 with 1 Axes>"
      ]
     },
     "metadata": {
      "needs_background": "light"
     },
     "output_type": "display_data"
    },
    {
     "data": {
      "text/plain": [
       "count    19624.000000\n",
       "mean        13.479668\n",
       "std         12.968949\n",
       "min          1.000000\n",
       "25%          6.000000\n",
       "50%         10.000000\n",
       "75%         17.000000\n",
       "max        210.000000\n",
       "dtype: float64"
      ]
     },
     "execution_count": 22,
     "metadata": {},
     "output_type": "execute_result"
    }
   ],
   "source": [
    "urdu.drop_duplicates(subset='post',inplace=True)\n",
    "\n",
    "reviews_len = []\n",
    "reviews_len = [len(x.split()) for x in urdu.post.to_list()]\n",
    "pd.Series(reviews_len).hist()\n",
    "plt.show()\n",
    "pd.Series(reviews_len).describe()"
   ]
  },
  {
   "cell_type": "markdown",
   "metadata": {},
   "source": [
    "NOTE: The minimum is now 1 word. That is also worth inspecting."
   ]
  },
  {
   "cell_type": "code",
   "execution_count": 23,
   "metadata": {},
   "outputs": [
    {
     "name": "stdout",
     "output_type": "stream",
     "text": [
      "WordCount  Sentiment\n",
      "1          Neutral      614\n",
      "           Positive     104\n",
      "           Negative      31\n",
      "dtype: int64\n"
     ]
    },
    {
     "data": {
      "text/html": [
       "<div>\n",
       "<style scoped>\n",
       "    .dataframe tbody tr th:only-of-type {\n",
       "        vertical-align: middle;\n",
       "    }\n",
       "\n",
       "    .dataframe tbody tr th {\n",
       "        vertical-align: top;\n",
       "    }\n",
       "\n",
       "    .dataframe thead th {\n",
       "        text-align: right;\n",
       "    }\n",
       "</style>\n",
       "<table border=\"1\" class=\"dataframe\">\n",
       "  <thead>\n",
       "    <tr style=\"text-align: right;\">\n",
       "      <th></th>\n",
       "      <th>WordCount</th>\n",
       "      <th>Sentiment</th>\n",
       "    </tr>\n",
       "  </thead>\n",
       "  <tbody>\n",
       "    <tr>\n",
       "      <th>32</th>\n",
       "      <td>1</td>\n",
       "      <td>Positive</td>\n",
       "    </tr>\n",
       "    <tr>\n",
       "      <th>33</th>\n",
       "      <td>1</td>\n",
       "      <td>Positive</td>\n",
       "    </tr>\n",
       "    <tr>\n",
       "      <th>339</th>\n",
       "      <td>1</td>\n",
       "      <td>Positive</td>\n",
       "    </tr>\n",
       "    <tr>\n",
       "      <th>350</th>\n",
       "      <td>1</td>\n",
       "      <td>Positive</td>\n",
       "    </tr>\n",
       "    <tr>\n",
       "      <th>367</th>\n",
       "      <td>1</td>\n",
       "      <td>Positive</td>\n",
       "    </tr>\n",
       "    <tr>\n",
       "      <th>...</th>\n",
       "      <td>...</td>\n",
       "      <td>...</td>\n",
       "    </tr>\n",
       "    <tr>\n",
       "      <th>14409</th>\n",
       "      <td>1</td>\n",
       "      <td>Positive</td>\n",
       "    </tr>\n",
       "    <tr>\n",
       "      <th>16615</th>\n",
       "      <td>1</td>\n",
       "      <td>Neutral</td>\n",
       "    </tr>\n",
       "    <tr>\n",
       "      <th>17001</th>\n",
       "      <td>1</td>\n",
       "      <td>Positive</td>\n",
       "    </tr>\n",
       "    <tr>\n",
       "      <th>17692</th>\n",
       "      <td>1</td>\n",
       "      <td>Negative</td>\n",
       "    </tr>\n",
       "    <tr>\n",
       "      <th>17694</th>\n",
       "      <td>1</td>\n",
       "      <td>Negative</td>\n",
       "    </tr>\n",
       "  </tbody>\n",
       "</table>\n",
       "<p>749 rows × 2 columns</p>\n",
       "</div>"
      ],
      "text/plain": [
       "       WordCount Sentiment\n",
       "32             1  Positive\n",
       "33             1  Positive\n",
       "339            1  Positive\n",
       "350            1  Positive\n",
       "367            1  Positive\n",
       "...          ...       ...\n",
       "14409          1  Positive\n",
       "16615          1   Neutral\n",
       "17001          1  Positive\n",
       "17692          1  Negative\n",
       "17694          1  Negative\n",
       "\n",
       "[749 rows x 2 columns]"
      ]
     },
     "execution_count": 23,
     "metadata": {},
     "output_type": "execute_result"
    }
   ],
   "source": [
    "print(wordCount[wordCount[\"WordCount\"] ==1 ].value_counts())\n",
    "wordCount[wordCount[\"WordCount\"] == 1 ]"
   ]
  },
  {
   "cell_type": "markdown",
   "metadata": {},
   "source": [
    "NOTE: There are quite a lot of comments with only one word. Let's look at some of them."
   ]
  },
  {
   "cell_type": "code",
   "execution_count": 24,
   "metadata": {},
   "outputs": [
    {
     "data": {
      "text/html": [
       "<div>\n",
       "<style scoped>\n",
       "    .dataframe tbody tr th:only-of-type {\n",
       "        vertical-align: middle;\n",
       "    }\n",
       "\n",
       "    .dataframe tbody tr th {\n",
       "        vertical-align: top;\n",
       "    }\n",
       "\n",
       "    .dataframe thead th {\n",
       "        text-align: right;\n",
       "    }\n",
       "</style>\n",
       "<table border=\"1\" class=\"dataframe\">\n",
       "  <thead>\n",
       "    <tr style=\"text-align: right;\">\n",
       "      <th></th>\n",
       "      <th>index</th>\n",
       "      <th>post</th>\n",
       "      <th>sentiment</th>\n",
       "    </tr>\n",
       "  </thead>\n",
       "  <tbody>\n",
       "    <tr>\n",
       "      <th>32</th>\n",
       "      <td>32</td>\n",
       "      <td>MashaAllah.</td>\n",
       "      <td>Positive</td>\n",
       "    </tr>\n",
       "    <tr>\n",
       "      <th>33</th>\n",
       "      <td>33</td>\n",
       "      <td>Mubarak</td>\n",
       "      <td>Positive</td>\n",
       "    </tr>\n",
       "    <tr>\n",
       "      <th>339</th>\n",
       "      <td>339</td>\n",
       "      <td>😁😁👍</td>\n",
       "      <td>Positive</td>\n",
       "    </tr>\n",
       "    <tr>\n",
       "      <th>350</th>\n",
       "      <td>350</td>\n",
       "      <td>Lol</td>\n",
       "      <td>Positive</td>\n",
       "    </tr>\n",
       "    <tr>\n",
       "      <th>367</th>\n",
       "      <td>367</td>\n",
       "      <td>Hahaha😂</td>\n",
       "      <td>Positive</td>\n",
       "    </tr>\n",
       "    <tr>\n",
       "      <th>14409</th>\n",
       "      <td>14524</td>\n",
       "      <td>W.aalikum.aslam.aap.ko.be.hum.pakistanyo.ke.ta...</td>\n",
       "      <td>Positive</td>\n",
       "    </tr>\n",
       "    <tr>\n",
       "      <th>16615</th>\n",
       "      <td>16730</td>\n",
       "      <td>Miss.shah.good.morning.kuch.khaa.k.aaya.krain....</td>\n",
       "      <td>Neutral</td>\n",
       "    </tr>\n",
       "    <tr>\n",
       "      <th>17001</th>\n",
       "      <td>17116</td>\n",
       "      <td>Jeo.hazrou.sal.minas.bahi</td>\n",
       "      <td>Positive</td>\n",
       "    </tr>\n",
       "    <tr>\n",
       "      <th>17692</th>\n",
       "      <td>17807</td>\n",
       "      <td>Begharti</td>\n",
       "      <td>Negative</td>\n",
       "    </tr>\n",
       "    <tr>\n",
       "      <th>17694</th>\n",
       "      <td>17809</td>\n",
       "      <td>Begairati</td>\n",
       "      <td>Negative</td>\n",
       "    </tr>\n",
       "  </tbody>\n",
       "</table>\n",
       "</div>"
      ],
      "text/plain": [
       "       index                                               post sentiment\n",
       "32        32                                        MashaAllah.  Positive\n",
       "33        33                                            Mubarak  Positive\n",
       "339      339                                                😁😁👍  Positive\n",
       "350      350                                                Lol  Positive\n",
       "367      367                                            Hahaha😂  Positive\n",
       "14409  14524  W.aalikum.aslam.aap.ko.be.hum.pakistanyo.ke.ta...  Positive\n",
       "16615  16730  Miss.shah.good.morning.kuch.khaa.k.aaya.krain....   Neutral\n",
       "17001  17116                          Jeo.hazrou.sal.minas.bahi  Positive\n",
       "17692  17807                                           Begharti  Negative\n",
       "17694  17809                                          Begairati  Negative"
      ]
     },
     "execution_count": 24,
     "metadata": {},
     "output_type": "execute_result"
    }
   ],
   "source": [
    "urdu.loc[[32, 33, 339, 350, 367, 14409, 16615, 17001,17692, 17694],:]"
   ]
  },
  {
   "cell_type": "markdown",
   "metadata": {},
   "source": [
    "NOTE: Those are smileys or actually just one word. But there are cases, such as in the rows 14409, 16615 and 17001, where it appears that the comments are sentences, but contain dots instead of space between the words.\n",
    "\n",
    "This shows that there are at least three sentences, that are counted as one word, although they are a sentence. \n",
    "So to retain at least those, I decided to just replace the dots with space. Unnecessary space will be removed further down anyways. ( The tokenisation code can be found in `urdu_sentiment/tokenise.py`)\n",
    "\n",
    "I will do this in the tokenisation step further down, which will be the easiest way."
   ]
  },
  {
   "cell_type": "markdown",
   "metadata": {},
   "source": [
    "# 2. Preprocessing the comments with common NLP techniques\n",
    "In the tokenisation step, I do the following:  \n",
    "\n",
    "1. Remove numbers  \n",
    "2. Remove punctuations\n",
    "3. Remove Stop words and common names\n",
    "\n",
    "This is wrapped in a if else statement, as I described above, some tokens are actually sentences, where the words are seperated by dots. In the if else statemetn, I first split the comments and replace the dots with a space, only for those comments, where the number of words is 1.\n",
    "\n",
    "\n",
    "Now I check if the `createToken` function works on on comment"
   ]
  },
  {
   "cell_type": "code",
   "execution_count": 25,
   "metadata": {},
   "outputs": [
    {
     "data": {
      "text/plain": [
       "['mashaallah']"
      ]
     },
     "execution_count": 25,
     "metadata": {},
     "output_type": "execute_result"
    }
   ],
   "source": [
    "createToken(urdu['post'][32], stopWords, urduNames)"
   ]
  },
  {
   "cell_type": "markdown",
   "metadata": {},
   "source": [
    "NOTE: Tokenise the whole list of comments and check if, after tokenisation, any comments are of 0 word length (probably the emoji only comments)"
   ]
  },
  {
   "cell_type": "code",
   "execution_count": 26,
   "metadata": {},
   "outputs": [
    {
     "data": {
      "text/plain": [
       "[['sai',\n",
       "  'kha',\n",
       "  'her',\n",
       "  'kisi',\n",
       "  'kay',\n",
       "  'bus',\n",
       "  'bat',\n",
       "  'nhi',\n",
       "  'lakin',\n",
       "  'hal',\n",
       "  'kal',\n",
       "  'bi',\n",
       "  'aj',\n",
       "  'aj',\n",
       "  'bi',\n",
       "  'sirf',\n",
       "  'aus',\n",
       "  'say',\n",
       "  'bus'],\n",
       " ['sahi', 'bt'],\n",
       " ['bt'],\n",
       " ['wah', 'je', 'wah'],\n",
       " ['are', 'wha', 'kaya', 'bat']]"
      ]
     },
     "execution_count": 26,
     "metadata": {},
     "output_type": "execute_result"
    }
   ],
   "source": [
    "# Make a list of lists out of the post column in the data frame, then apply the above function to the whole list of comments\n",
    "posts = urdu.post.tolist()\n",
    "allTokenised = []\n",
    "for post in posts:\n",
    "  allTokenised.append(createToken(post, stopWords, urduNames))\n",
    "\n",
    "allTokenised[0:5]"
   ]
  },
  {
   "cell_type": "code",
   "execution_count": 27,
   "metadata": {},
   "outputs": [],
   "source": [
    "tokenised_corp = tokeniseAll(posts, stopWords, urduNames)"
   ]
  },
  {
   "cell_type": "code",
   "execution_count": 28,
   "metadata": {},
   "outputs": [
    {
     "data": {
      "image/png": "[encoded data removed]",
      "text/plain": [
       "<Figure size 720x360 with 1 Axes>"
      ]
     },
     "metadata": {
      "needs_background": "light"
     },
     "output_type": "display_data"
    },
    {
     "data": {
      "text/plain": [
       "count    19624.000000\n",
       "mean         9.291429\n",
       "std          9.004221\n",
       "min          0.000000\n",
       "25%          4.000000\n",
       "50%          7.000000\n",
       "75%         12.000000\n",
       "max        155.000000\n",
       "dtype: float64"
      ]
     },
     "execution_count": 28,
     "metadata": {},
     "output_type": "execute_result"
    }
   ],
   "source": [
    "reviews_len = [len(x) for x in tokenised_corp]\n",
    "pd.Series(reviews_len).hist()\n",
    "plt.show()\n",
    "pd.Series(reviews_len).describe()"
   ]
  },
  {
   "cell_type": "markdown",
   "metadata": {},
   "source": [
    "NOTE: Indeed, there is a number of 0 length posts that occur after tokenisation. We will first encode our data and then remove the 0 length tokens"
   ]
  },
  {
   "cell_type": "code",
   "execution_count": 29,
   "metadata": {},
   "outputs": [
    {
     "name": "stdout",
     "output_type": "stream",
     "text": [
      "Negatives:  5239\n",
      "Neutrals:  8532\n",
      "Positives:  5853\n"
     ]
    }
   ],
   "source": [
    "y = urdu.sentiment.values\n",
    "X = np.array([' '.join(doc) for doc in tokenised_corp])\n",
    "dic = {'Negative':'-1', 'Positive':'1', 'Neutral':'0'}\n",
    "y = np.array([dic.get(n, n) for n in y])\n",
    "print('Negatives: ', np.count_nonzero(y == '-1'))\n",
    "print('Neutrals: ', np.count_nonzero(y == '0'))\n",
    "print('Positives: ', np.count_nonzero(y == '1'))"
   ]
  },
  {
   "cell_type": "markdown",
   "metadata": {},
   "source": [
    "### Remove the tokens that are empty"
   ]
  },
  {
   "cell_type": "code",
   "execution_count": 30,
   "metadata": {},
   "outputs": [],
   "source": [
    "X = np.array([ X[i] for i, l in enumerate(reviews_len) if l > 0 ])\n",
    "y = np.array([ y[i] for i, l in enumerate(reviews_len) if l > 0 ])"
   ]
  },
  {
   "cell_type": "markdown",
   "metadata": {},
   "source": [
    "# Training models\n",
    "\n",
    "In order for the ML models to handle the data, we need to vectorise it. This means transforming the tokens into a sparse matrix.\n",
    "\n",
    "Some info on sparse matrices [can be found here](https://towardsdatascience.com/working-with-sparse-data-sets-in-pandas-and-sklearn-d26c1cfbe067). \n",
    ">A sparse matrix is a matrix in which most of the elements are zero. On the contrary, a table in which the majority of elements are non zero is called dense. We define the sparsity of a matrix as the number of zero elements divided by the total number of elements. A matrix with sparsity greater than 0.5 is a sparse matrix."
   ]
  },
  {
   "cell_type": "code",
   "execution_count": 31,
   "metadata": {},
   "outputs": [
    {
     "data": {
      "text/plain": [
       "['aa_gaey',\n",
       " 'aaa',\n",
       " 'aaaa',\n",
       " 'aaaaa',\n",
       " 'aaaaappppp',\n",
       " 'aaaallaaaa',\n",
       " 'aaaallllaaaa',\n",
       " 'aaah',\n",
       " 'aaaiin']"
      ]
     },
     "execution_count": 31,
     "metadata": {},
     "output_type": "execute_result"
    }
   ],
   "source": [
    "# A quick check which words are 'rare'\n",
    "cv = CountVectorizer()\n",
    "X_count = cv.fit_transform(X)\n",
    "sorted(cv.vocabulary_)[1:10]"
   ]
  },
  {
   "cell_type": "markdown",
   "metadata": {},
   "source": [
    "### Set up the models and the stratified cross validator.\n",
    "\n",
    "Some info: \n",
    "\n",
    "**TF-IDF**, short for 'Term Frequency - Inverse Document Frequency, creates a matrix, called corpus, of the total number of tokens (words) in the text, by the number of comments (tokens $\\times$ \\$n_{comments}\\$ ), where the cells are the token frequency in the document (number of occurences), expressed as a probability, weighted by the number of occurences of that token/word in the comment, as compared to the whole number of comments.\n",
    "Simpler: The TF-IDF weights comment specific but overall rare words higher.  \n",
    "As per [scikit library](https://scikit-learn.org/stable/modules/generated/sklearn.feature_extraction.text.TfidfTransformer.html#sklearn.feature_extraction.text.TfidfTransformer):  \n",
    ">The goal of using tf-idf instead of the raw frequencies of occurrence of a token in a given document is to scale down the impact of tokens that occur very frequently in a given corpus and that are hence empirically less informative than features that occur in a small fraction of the training corpus.\n"
   ]
  },
  {
   "cell_type": "code",
   "execution_count": 32,
   "metadata": {},
   "outputs": [],
   "source": [
    "# Set up the TFIDF tokenisation\n",
    "ftfIDF = TfidfVectorizer(max_df = 0.70, \n",
    "                         binary = False, \n",
    "                         sublinear_tf = True, \n",
    "                         use_idf = True)\n",
    "\n",
    "# Stratified k-fold cross validation\n",
    "stratifiedK = StratifiedKFold(n_splits = 10, shuffle = True, random_state = 7)\n",
    "\n",
    "# Multinomial Logistic Regression\n",
    "mlRegression = LogisticRegression(random_state = 0, solver = 'liblinear', multi_class = 'auto')\n",
    "\n",
    "# Multinomial Naive Bayes\n",
    "mnBayes = MultinomialNB(alpha=0.25)"
   ]
  },
  {
   "cell_type": "markdown",
   "metadata": {},
   "source": [
    "## Multinomial Logistic Regression\n",
    "As the classes are not imbalanced, I am looking at accuracy at this stage."
   ]
  },
  {
   "cell_type": "code",
   "execution_count": 33,
   "metadata": {},
   "outputs": [
    {
     "name": "stdout",
     "output_type": "stream",
     "text": [
      "Score: 0.6288\n",
      "Score: 0.6559\n",
      "Score: 0.6431\n",
      "Score: 0.6354\n",
      "Score: 0.6400\n",
      "Score: 0.6096\n",
      "Score: 0.6281\n",
      "Score: 0.6163\n",
      "Score: 0.6311\n",
      "Score: 0.6460\n",
      "Average Accuracy: 0.6334\n"
     ]
    }
   ],
   "source": [
    "scores = []\n",
    "for train_index, test_index in stratifiedK.split(X, y):\n",
    "    X_train, y_train, X_test, y_test = X[train_index], y[train_index], X[test_index], y[test_index]\n",
    "    \n",
    "    #Vectorize the training values\n",
    "    tf_idf = ftfIDF.fit_transform(X_train)\n",
    "    \n",
    "    #Fit the classifier to training data\n",
    "    mlRegression = mlRegression.fit(tf_idf,y_train) \n",
    "\n",
    "    #Vectorize the test values\n",
    "    X_test_tfidf = ftfIDF.transform(X_test) \n",
    "    \n",
    "    #Predict on test values\n",
    "    y_pred = mlRegression.predict(X_test_tfidf)\n",
    "    y_pred_proba = mlRegression.predict_proba(X_test_tfidf)\n",
    "    \n",
    "    #Print out scores for this fold\n",
    "    score = mlRegression.score(X_test_tfidf,y_test)\n",
    "    print('Score: {:2.4f}'.format(score))\n",
    "    scores.append(score)\n",
    "    \n",
    "#Print average score\n",
    "print('Average Accuracy: {:2.4f}'.format(np.mean(scores)))"
   ]
  },
  {
   "cell_type": "code",
   "execution_count": 34,
   "metadata": {},
   "outputs": [
    {
     "data": {
      "image/png": "[encoded data removed]",
      "text/plain": [
       "<Figure size 576x432 with 2 Axes>"
      ]
     },
     "metadata": {
      "needs_background": "light"
     },
     "output_type": "display_data"
    },
    {
     "name": "stdout",
     "output_type": "stream",
     "text": [
      "\n",
      "======================================================\n",
      "              precision    recall  f1-score   support\n",
      "\n",
      "          -1      0.667     0.469     0.551       524\n",
      "           0      0.622     0.807     0.702       843\n",
      "           1      0.685     0.573     0.624       585\n",
      "\n",
      "    accuracy                          0.646      1952\n",
      "   macro avg      0.658     0.616     0.626      1952\n",
      "weighted avg      0.653     0.646     0.638      1952\n",
      "\n",
      "======================================================\n"
     ]
    }
   ],
   "source": [
    "customPlt.plotConfMatrix(y_pred,y_test,\n",
    "              target_names= ['Negative', 'Neutral', 'Positive'],\n",
    "              title = 'Confusion matrix of the Multinomial Logistic Regression Classifier (%)',\n",
    "              normalize = True)\n",
    "\n",
    "print('')\n",
    "print('======================================================')\n",
    "print(classification_report(y_test, y_pred, digits=3))\n",
    "print('======================================================')"
   ]
  },
  {
   "cell_type": "markdown",
   "metadata": {},
   "source": [
    "## Training Multinomial Naive Bayes"
   ]
  },
  {
   "cell_type": "code",
   "execution_count": 35,
   "metadata": {},
   "outputs": [
    {
     "name": "stdout",
     "output_type": "stream",
     "text": [
      "Score: 0.6272\n",
      "Score: 0.6406\n",
      "Score: 0.6380\n",
      "Score: 0.6416\n",
      "Score: 0.6313\n",
      "Score: 0.6393\n",
      "Score: 0.6265\n",
      "Score: 0.6255\n",
      "Score: 0.6291\n",
      "Score: 0.6281\n",
      "Average Accuracy: 0.6327\n"
     ]
    }
   ],
   "source": [
    "scores = []\n",
    "for train_index, test_index in stratifiedK.split(X, y):\n",
    "    X_train, y_train, X_test, y_test = X[train_index], y[train_index], X[test_index], y[test_index]\n",
    "    \n",
    "    #Vectorize the training values\n",
    "    tf_idf = ftfIDF.fit_transform(X_train)\n",
    "    \n",
    "    #Fit the classifier to training data\n",
    "    mnBayes = mnBayes.fit(tf_idf,y_train) \n",
    "\n",
    "    #Vectorize the test values\n",
    "    X_test_tfidf = ftfIDF.transform(X_test) \n",
    "    \n",
    "    #Predict on test values\n",
    "    y_pred = mnBayes.predict(X_test_tfidf)\n",
    "    y_pred_proba = mnBayes.predict_proba(X_test_tfidf)\n",
    "    \n",
    "    #Print out scores for this fold\n",
    "    score = mnBayes.score(X_test_tfidf,y_test)\n",
    "    print('Score: {:2.4f}'.format(score))\n",
    "    scores.append(score)\n",
    "    \n",
    "#Print average score\n",
    "print('Average Accuracy: {:2.4f}'.format(np.mean(scores)))"
   ]
  },
  {
   "cell_type": "code",
   "execution_count": 36,
   "metadata": {},
   "outputs": [
    {
     "data": {
      "image/png": "[encoded data removed]",
      "text/plain": [
       "<Figure size 576x432 with 2 Axes>"
      ]
     },
     "metadata": {
      "needs_background": "light"
     },
     "output_type": "display_data"
    },
    {
     "name": "stdout",
     "output_type": "stream",
     "text": [
      "\n",
      "======================================================\n",
      "              precision    recall  f1-score   support\n",
      "\n",
      "          -1      0.633     0.496     0.556       524\n",
      "           0      0.619     0.739     0.674       843\n",
      "           1      0.642     0.586     0.613       585\n",
      "\n",
      "    accuracy                          0.628      1952\n",
      "   macro avg      0.631     0.607     0.614      1952\n",
      "weighted avg      0.629     0.628     0.624      1952\n",
      "\n",
      "======================================================\n"
     ]
    }
   ],
   "source": [
    "customPlt.plotConfMatrix(y_pred,y_test,\n",
    "              target_names= ['Negative', 'Neutral', 'Positive'],\n",
    "              title = 'Confusion matrix of the Multinomial Naive Bayes (%)',\n",
    "              normalize = True)\n",
    "\n",
    "print('')\n",
    "print('======================================================')\n",
    "print(classification_report(y_test, y_pred, digits=3))\n",
    "print('======================================================')"
   ]
  },
  {
   "cell_type": "markdown",
   "metadata": {},
   "source": [
    "## Conclusion on both models\n",
    "For these two models, without grid search for parameter tunning, we can see that the Naive Bayes performs slightly better at teh task of predicting negative sentiments than the  Multinomial Logistic Regression. \n",
    "MNB is able to achieve a recall of 0.496 for the negative class, whereas the MLR is slightly under that with 0.469.\n",
    "Overall the performance is very similar though.  \n",
    "The overall accuracy is better in MLR, with 0.646 against 0.628 in MNB.\n",
    "\n",
    "The results are far from striking."
   ]
  },
  {
   "cell_type": "markdown",
   "metadata": {},
   "source": [
    "## Optional fine tuning\n",
    "for a production model, I would definitely perform parameter fine tuning. Below is the code to do so for Multinomial Bayes."
   ]
  },
  {
   "cell_type": "code",
   "execution_count": 37,
   "metadata": {},
   "outputs": [],
   "source": [
    "# Setting up a grid search pipeline for tfidf and NB\n",
    "tvc_pipe = Pipeline([\n",
    " ('tfidf', TfidfVectorizer()),\n",
    " ('mb', MultinomialNB())\n",
    "])\n",
    "\n",
    "# Parameters for the search\n",
    "tf_params = {\n",
    " 'tfidf__ngram_range': [(1, 1), (1, 2), (2, 2)],\n",
    " 'tfidf__use_idf': (True, False),\n",
    " 'mb__alpha':[0.1, 0.15, 0.2, 0.25, 0.3,0.4, 0.5]\n",
    "}"
   ]
  },
  {
   "cell_type": "code",
   "execution_count": 38,
   "metadata": {},
   "outputs": [
    {
     "name": "stdout",
     "output_type": "stream",
     "text": [
      "              precision    recall  f1-score   support\n",
      "\n",
      "          -1     0.6388    0.4629    0.5368      1039\n",
      "           0     0.6246    0.7422    0.6783      1722\n",
      "           1     0.6365    0.6154    0.6258      1144\n",
      "\n",
      "    accuracy                         0.6307      3905\n",
      "   macro avg     0.6333    0.6068    0.6137      3905\n",
      "weighted avg     0.6319    0.6307    0.6253      3905\n",
      "\n"
     ]
    }
   ],
   "source": [
    "x_train, x_test, y_train, y_test = train_test_split(X, y, test_size=0.20, random_state=42)\n",
    "clf = GridSearchCV(tvc_pipe, tf_params, cv=10, scoring = 'accuracy', n_jobs = -1)\n",
    "clf.fit(x_train, y_train)\n",
    "\n",
    "print(classification_report(y_test, clf.predict(x_test), digits=4))"
   ]
  },
  {
   "cell_type": "markdown",
   "metadata": {},
   "source": [
    "# Combining Positive and Neutral Sentiments\n",
    "As my task is to predict negative sentiment, I descided to combine positive and neutral classes, to make it a binary classification. Not negative versus negative sentiment."
   ]
  },
  {
   "cell_type": "code",
   "execution_count": 39,
   "metadata": {},
   "outputs": [],
   "source": [
    "# Recode the neutral classes to 0; this is the same as the positive class now\n",
    "y = urdu['sentiment'].copy().values\n",
    "np.place(y,y == 'Negative',1)\n",
    "np.place(y,y == 'Positive',0)\n",
    "np.place(y,y == 'Neutral',0)\n",
    "y = y.astype(int)"
   ]
  },
  {
   "cell_type": "markdown",
   "metadata": {},
   "source": [
    "Again, we need to remove the 0 length comments, as below"
   ]
  },
  {
   "cell_type": "code",
   "execution_count": 40,
   "metadata": {},
   "outputs": [
    {
     "data": {
      "text/plain": [
       "array([14286,  5239])"
      ]
     },
     "execution_count": 40,
     "metadata": {},
     "output_type": "execute_result"
    }
   ],
   "source": [
    "y = np.array([ y[i] for i, l in enumerate(reviews_len) if l > 0 ])\n",
    "np.bincount(y)"
   ]
  },
  {
   "cell_type": "markdown",
   "metadata": {},
   "source": [
    "Check that X and y have the same number of entries and we did not make any mistakes"
   ]
  },
  {
   "cell_type": "code",
   "execution_count": 41,
   "metadata": {},
   "outputs": [
    {
     "name": "stdout",
     "output_type": "stream",
     "text": [
      "(19525,)\n",
      "(19525,)\n"
     ]
    }
   ],
   "source": [
    "print(X.shape)\n",
    "print(y.shape)"
   ]
  },
  {
   "cell_type": "markdown",
   "metadata": {},
   "source": [
    "Count the number of comments per sentiment"
   ]
  },
  {
   "cell_type": "code",
   "execution_count": 42,
   "metadata": {},
   "outputs": [
    {
     "data": {
      "text/plain": [
       "array([[    0, 14286],\n",
       "       [    1,  5239]])"
      ]
     },
     "execution_count": 42,
     "metadata": {},
     "output_type": "execute_result"
    }
   ],
   "source": [
    "unique, counts = np.unique(y, return_counts=True)\n",
    "frequencies = np.asarray((unique, counts)).T\n",
    "frequencies"
   ]
  },
  {
   "cell_type": "markdown",
   "metadata": {},
   "source": [
    "NOTE: We have now created an imbalanced training problem, hence I decided to also use the Synthetic Minority Oversampling Technique (SMOTE) to deal with this."
   ]
  },
  {
   "cell_type": "code",
   "execution_count": 43,
   "metadata": {},
   "outputs": [],
   "source": [
    "ftfIDF2 = TfidfVectorizer(max_df=0.75,\n",
    "                             lowercase=False,\n",
    "                             norm = 'l2',\n",
    "                             sublinear_tf=True,\n",
    "                             use_idf=False)\n",
    "\n",
    "sm = SMOTE(sampling_strategy=1.0,\n",
    "           random_state=5,\n",
    "           k_neighbors=3)\n"
   ]
  },
  {
   "cell_type": "markdown",
   "metadata": {},
   "source": [
    "## Multinomial Logistic Regression"
   ]
  },
  {
   "cell_type": "code",
   "execution_count": 44,
   "metadata": {},
   "outputs": [
    {
     "name": "stdout",
     "output_type": "stream",
     "text": [
      "Cohen`s kappa score: 0.3358\n",
      "Cohen`s kappa score: 0.3406\n",
      "Cohen`s kappa score: 0.3760\n",
      "Cohen`s kappa score: 0.3319\n",
      "Cohen`s kappa score: 0.3829\n",
      "Cohen`s kappa score: 0.3419\n",
      "Cohen`s kappa score: 0.3006\n",
      "Cohen`s kappa score: 0.3502\n",
      "Cohen`s kappa score: 0.3762\n",
      "Cohen`s kappa score: 0.3993\n",
      "Average Cohen`s Kappa: 0.3993\n"
     ]
    }
   ],
   "source": [
    "for train_index, test_index in stratifiedK.split(X, y):\n",
    "    X_train, y_train, X_test, y_test_mlr = X[train_index], y[train_index], X[test_index], y[test_index]\n",
    "    \n",
    "    #Vectorize the training values\n",
    "    tf_idf = ftfIDF2.fit_transform(X_train)\n",
    "        \n",
    "    #Scale data if needed for kNN \n",
    "    scaler = MaxAbsScaler()\n",
    "    tf_idf = scaler.fit_transform(tf_idf)\n",
    "    \n",
    "    # Apply smote\n",
    "    tf_idf_sm, y_train_sm = sm.fit_resample(tf_idf, y_train)\n",
    "    \n",
    "    #Fit the classifier to training data\n",
    "    mlRegression = mlRegression.fit(tf_idf_sm,y_train_sm) \n",
    "\n",
    "    #Vectorize the test values\n",
    "    X_test_tfidf = ftfIDF2.transform(X_test) \n",
    "    \n",
    "    #Predict on test values\n",
    "    y_pred_mlr = mlRegression.predict(X_test_tfidf)\n",
    "    y_pred_proba_mlr = mlRegression.predict_proba(X_test_tfidf)\n",
    "    \n",
    "    #Print out scores for this fold\n",
    "    #score = mlRegression.score(X_test_tfidf,y_test)\n",
    "    kappaScore = cohen_kappa_score(y_pred_mlr,y_test_mlr)\n",
    "    print('Cohen`s kappa score: {:2.4f}'.format(kappaScore))\n",
    "    scores.append(kappaScore)\n",
    "    \n",
    "#Print average score\n",
    "print('Average Cohen`s Kappa: {:2.4f}'.format(np.mean(kappaScore)))"
   ]
  },
  {
   "cell_type": "code",
   "execution_count": 45,
   "metadata": {},
   "outputs": [
    {
     "data": {
      "image/png": "[encoded data removed]",
      "text/plain": [
       "<Figure size 576x432 with 2 Axes>"
      ]
     },
     "metadata": {
      "needs_background": "light"
     },
     "output_type": "display_data"
    },
    {
     "name": "stdout",
     "output_type": "stream",
     "text": [
      "\n",
      "======================================================\n",
      "              precision    recall  f1-score   support\n",
      "\n",
      "           0      0.817     0.915     0.864      1428\n",
      "           1      0.657     0.443     0.529       524\n",
      "\n",
      "    accuracy                          0.788      1952\n",
      "   macro avg      0.737     0.679     0.696      1952\n",
      "weighted avg      0.774     0.788     0.774      1952\n",
      "\n",
      "======================================================\n"
     ]
    }
   ],
   "source": [
    "customPlt.plotConfMatrix(y_pred_mlr,y_test_mlr,\n",
    "              target_names= ['Neutral/Positive', 'Negative'],\n",
    "              title = 'Confusion matrix of the Multinomial Regression Classifier with SMOTE (%)',\n",
    "              normalize = True)\n",
    "\n",
    "print('')\n",
    "print('======================================================')\n",
    "print(classification_report(y_test_mlr, y_pred_mlr, digits=3))\n",
    "print('======================================================')"
   ]
  },
  {
   "cell_type": "markdown",
   "metadata": {},
   "source": [
    "## Multinomial Naive Bayes"
   ]
  },
  {
   "cell_type": "code",
   "execution_count": 46,
   "metadata": {},
   "outputs": [
    {
     "name": "stdout",
     "output_type": "stream",
     "text": [
      "Cohen`s kappa score: 0.3781\n",
      "Cohen`s kappa score: 0.3398\n",
      "Cohen`s kappa score: 0.4119\n",
      "Cohen`s kappa score: 0.3673\n",
      "Cohen`s kappa score: 0.4009\n",
      "Cohen`s kappa score: 0.3568\n",
      "Cohen`s kappa score: 0.3707\n",
      "Cohen`s kappa score: 0.3690\n",
      "Cohen`s kappa score: 0.3798\n",
      "Cohen`s kappa score: 0.4040\n",
      "Average Cohen`s Kappa: 0.4040\n"
     ]
    }
   ],
   "source": [
    "for train_index, test_index in stratifiedK.split(X, y):\n",
    "    X_train, y_train, X_test, y_test_mnb = X[train_index], y[train_index], X[test_index], y[test_index]\n",
    "    \n",
    "    #Vectorize the training values\n",
    "    tf_idf = ftfIDF2.fit_transform(X_train)\n",
    "    \n",
    "    #Scale data if needed for kNN \n",
    "    scaler = MaxAbsScaler()\n",
    "    tf_idf = scaler.fit_transform(tf_idf)\n",
    "    \n",
    "    # Apply smote\n",
    "    tf_idf_sm, y_train_sm = sm.fit_resample(tf_idf, y_train)\n",
    "    \n",
    "    #Fit the classifier to training data\n",
    "    mnBayes = mnBayes.fit(tf_idf_sm,y_train_sm) \n",
    "\n",
    "    #Vectorize the test values\n",
    "    X_test_tfidf = ftfIDF2.transform(X_test) \n",
    "    \n",
    "    #Predict on test values\n",
    "    y_pred_mnb = mnBayes.predict(X_test_tfidf)\n",
    "    y_pred_proba_mnb = mnBayes.predict_proba(X_test_tfidf)\n",
    "    \n",
    "    #Print out scores for this fold\n",
    "    #score = mnBayes.score(X_test_tfidf,y_test)\n",
    "    kappaScore = cohen_kappa_score(y_pred_mnb,y_test_mnb)\n",
    "    print('Cohen`s kappa score: {:2.4f}'.format(kappaScore))\n",
    "    scores.append(kappaScore)\n",
    "    \n",
    "#Print average score\n",
    "print('Average Cohen`s Kappa: {:2.4f}'.format(np.mean(kappaScore)))"
   ]
  },
  {
   "cell_type": "code",
   "execution_count": 47,
   "metadata": {},
   "outputs": [
    {
     "data": {
      "image/png": "[encoded data removed]",
      "text/plain": [
       "<Figure size 576x432 with 2 Axes>"
      ]
     },
     "metadata": {
      "needs_background": "light"
     },
     "output_type": "display_data"
    },
    {
     "name": "stdout",
     "output_type": "stream",
     "text": [
      "\n",
      "======================================================\n",
      "              precision    recall  f1-score   support\n",
      "\n",
      "           0      0.867     0.765     0.813      1428\n",
      "           1      0.515     0.679     0.586       524\n",
      "\n",
      "    accuracy                          0.742      1952\n",
      "   macro avg      0.691     0.722     0.699      1952\n",
      "weighted avg      0.772     0.742     0.752      1952\n",
      "\n",
      "======================================================\n"
     ]
    }
   ],
   "source": [
    "customPlt.plotConfMatrix(y_pred_mnb,y_test_mnb,\n",
    "              target_names= ['Neutral/Positive', 'Negative'],\n",
    "              title = 'Confusion matrix of the Multinomial Naive Bayes with SMOTE (%)',\n",
    "              normalize = True)\n",
    "\n",
    "print('')\n",
    "print('======================================================')\n",
    "print(classification_report(y_test_mnb, y_pred_mnb, digits=3))\n",
    "print('======================================================')"
   ]
  },
  {
   "cell_type": "markdown",
   "metadata": {},
   "source": [
    "## Inspect the AUC-ROC and PRC-ROC"
   ]
  },
  {
   "cell_type": "code",
   "execution_count": 48,
   "metadata": {},
   "outputs": [
    {
     "data": {
      "image/png": "[encoded data removed]",
      "text/plain": [
       "<Figure size 2304x720 with 2 Axes>"
      ]
     },
     "metadata": {
      "needs_background": "light"
     },
     "output_type": "display_data"
    }
   ],
   "source": [
    "customPlt.plotCurves(y_test_mlr, \n",
    "               y_test_mnb, \n",
    "               y_pred_proba_mlr, \n",
    "               y_pred_proba_mnb)"
   ]
  },
  {
   "cell_type": "markdown",
   "metadata": {},
   "source": [
    "# Conclusion\n",
    "The binary classification performs drastically better than the multiclass prediction models.\n",
    "\n",
    "Overall, I was able to improve the classification of negative sentiments in the following way\n",
    "\n",
    "- Binary $\\to$ Multiclass  \n",
    "\n",
    "  - Multinomial Logistic Regression\n",
    "      - Negative class specific Recall : 0.469 $\\to$ 0.443\n",
    "  - Multinomial Naive Bayes\n",
    "      - Negative class specific Recall: 0.496 $\\to$ 0.679\n",
    "\n",
    "The ROC and PRC curves both show that the  Naive Bayes outperforms the Logistic Regression.\n",
    "Hence, the best model is the __binary classifier Naive Bayes__"
   ]
  },
  {
   "cell_type": "markdown",
   "metadata": {},
   "source": [
    "# Closing Remarks and Outlook\n",
    "\n",
    "There are many other ways of performing this analysis, and many likely better models. One method I have identified is deep learning based and implements a [Long Short Term Memory (LSTM) deep learning model](https://towardsdatascience.com/sentiment-analysis-using-lstm-step-by-step-50d074f09948).\n",
    "Further, one can leverage the pre-trained [RoBERTa model](https://towardsdatascience.com/discover-the-sentiment-of-reddit-subgroup-using-roberta-model-10ab9a8271b8) to perform the task. Both are very likely to perform better on the sentiment analysis.  \n",
    "\n",
    "With this project, however, I just wanted to polish up my python skills and to get some understanding on NLP and sentiment analysis more so than training the perfect classifier in a field that was new to me. Hence, I put emphasis on how to set up a data science project folder and how to make it minimally reproducible with the inclusion of a `requirements.txt`. \n",
    "\n",
    "Further, I created a local minimal python package with some basic functions that I used in the notebook. I could have included those in the notebook, as this is a small test project, but in a real world data science project with multiple collaborators, it would be handy to have the long code chunks placed separately."
   ]
  }
 ],
 "metadata": {
  "kernelspec": {
   "display_name": "Python 3",
   "language": "python",
   "name": "python3"
  },
  "language_info": {
   "codemirror_mode": {
    "name": "ipython",
    "version": 3
   },
   "file_extension": ".py",
   "mimetype": "text/x-python",
   "name": "python",
   "nbconvert_exporter": "python",
   "pygments_lexer": "ipython3",
   "version": "3.9.2"
  }
 },
 "nbformat": 4,
 "nbformat_minor": 4
}
